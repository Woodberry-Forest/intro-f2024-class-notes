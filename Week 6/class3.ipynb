{
 "cells": [
  {
   "cell_type": "markdown",
   "metadata": {},
   "source": [
    "# Class 3\n",
    "\n",
    "1. Continue with shape classes\n",
    "2. Discuss:\n",
    "3. File I/O\n",
    "4. Recursion"
   ]
  },
  {
   "cell_type": "code",
   "execution_count": 2,
   "metadata": {},
   "outputs": [],
   "source": [
    "import numpy as np"
   ]
  },
  {
   "cell_type": "code",
   "execution_count": 1,
   "metadata": {},
   "outputs": [],
   "source": [
    "class Shape():\n",
    "\n",
    "    def __init__(self, n_sides):\n",
    "        self.n_sides = n_sides\n",
    "\n",
    "    def get_sides(self):\n",
    "        return self.n_sides\n",
    "\n",
    "class Rectangle(Shape):\n",
    "\n",
    "    def __init__(self, w, h):\n",
    "        super().__init__(4)\n",
    "        self.w = w\n",
    "        self.h = h\n",
    "\n",
    "    def area(self):\n",
    "        return self.w * self.h\n",
    "    \n",
    "class Square(Rectangle):\n",
    "\n",
    "    def __init__(self, s):\n",
    "        super().__init__(s, s)"
   ]
  },
  {
   "cell_type": "code",
   "execution_count": null,
   "metadata": {},
   "outputs": [],
   "source": []
  }
 ],
 "metadata": {
  "kernelspec": {
   "display_name": "Python 3",
   "language": "python",
   "name": "python3"
  },
  "language_info": {
   "codemirror_mode": {
    "name": "ipython",
    "version": 3
   },
   "file_extension": ".py",
   "mimetype": "text/x-python",
   "name": "python",
   "nbconvert_exporter": "python",
   "pygments_lexer": "ipython3",
   "version": "3.11.4"
  }
 },
 "nbformat": 4,
 "nbformat_minor": 2
}
