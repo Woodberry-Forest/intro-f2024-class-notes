{
 "cells": [
  {
   "cell_type": "markdown",
   "metadata": {},
   "source": [
    "# Class 1\n",
    "\n",
    "Today, we will learn about classes in Python.\n",
    "\n",
    "## What is a class?\n",
    "\n",
    "A class is a blueprint for creating objects (a particular data structure), providing initial values for state (member variables or attributes), and implementations of behavior (member functions or methods)."
   ]
  },
  {
   "cell_type": "code",
   "execution_count": 45,
   "metadata": {},
   "outputs": [],
   "source": [
    "class Person():\n",
    "\n",
    "    def __init__(self, name, age, height):\n",
    "        self.name = name\n",
    "        self.age = age\n",
    "        self.height = height\n",
    "\n",
    "    # Getters/Accessors\n",
    "    def get_name(self):\n",
    "        return self.name\n",
    "\n",
    "    def get_age(self):\n",
    "        return self.age\n",
    "\n",
    "    def get_height(self):\n",
    "        return self.height\n",
    "    \n",
    "    # Setters/Mutators\n",
    "    def set_name(self, name):\n",
    "        if type(name) == str:\n",
    "            self.name = name\n",
    "        else:\n",
    "            print(\"Hey! Name needs to be a string.\")\n",
    "\n",
    "    def set_age(self, age):\n",
    "        if type(age) == int and age > 0:\n",
    "            self.age = age\n",
    "        else:\n",
    "            print(\"Invalid age.\")\n",
    "\n",
    "    def set_height(self, height):\n",
    "        self.height = height\n",
    "\n",
    "    # Additional functionality\n",
    "    def add_job(self, job_title):\n",
    "        self.job = job_title\n",
    "\n",
    "    def birthday(self):\n",
    "        self.age += 1\n",
    "\n",
    "    def growth_spurt(self):\n",
    "        self.height += 2\n",
    "\n",
    "    # Overriding Methods\n",
    "    def __str__(self):\n",
    "        s = f\"Name: {self.name}\\nAge: {self.age}\\nHeight: {self.height}\"\n",
    "        return s\n",
    "    \n",
    "    def __eq__(self, other):\n",
    "        \n"
   ]
  },
  {
   "cell_type": "code",
   "execution_count": 46,
   "metadata": {},
   "outputs": [],
   "source": [
    "p1 = Person(\"John\", 16, 66)"
   ]
  },
  {
   "cell_type": "code",
   "execution_count": 47,
   "metadata": {},
   "outputs": [
    {
     "data": {
      "text/plain": [
       "'John'"
      ]
     },
     "execution_count": 47,
     "metadata": {},
     "output_type": "execute_result"
    }
   ],
   "source": [
    "p1.get_name()"
   ]
  },
  {
   "cell_type": "code",
   "execution_count": 48,
   "metadata": {},
   "outputs": [],
   "source": [
    "p1.birthday()"
   ]
  },
  {
   "cell_type": "code",
   "execution_count": 49,
   "metadata": {},
   "outputs": [
    {
     "data": {
      "text/plain": [
       "17"
      ]
     },
     "execution_count": 49,
     "metadata": {},
     "output_type": "execute_result"
    }
   ],
   "source": [
    "p1.get_age()"
   ]
  },
  {
   "cell_type": "code",
   "execution_count": 50,
   "metadata": {},
   "outputs": [
    {
     "name": "stdout",
     "output_type": "stream",
     "text": [
      "Name: John\n",
      "Age: 17\n",
      "Height: 66\n"
     ]
    }
   ],
   "source": [
    "print(p1)"
   ]
  },
  {
   "cell_type": "code",
   "execution_count": null,
   "metadata": {},
   "outputs": [],
   "source": []
  }
 ],
 "metadata": {
  "kernelspec": {
   "display_name": "Python 3",
   "language": "python",
   "name": "python3"
  },
  "language_info": {
   "codemirror_mode": {
    "name": "ipython",
    "version": 3
   },
   "file_extension": ".py",
   "mimetype": "text/x-python",
   "name": "python",
   "nbconvert_exporter": "python",
   "pygments_lexer": "ipython3",
   "version": "3.11.4"
  }
 },
 "nbformat": 4,
 "nbformat_minor": 2
}
