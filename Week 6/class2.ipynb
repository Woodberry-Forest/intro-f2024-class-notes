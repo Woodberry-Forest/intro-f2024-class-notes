{
 "cells": [
  {
   "cell_type": "code",
   "execution_count": 2,
   "metadata": {},
   "outputs": [],
   "source": [
    "class Student():\n",
    "    \n",
    "    # Constructor\n",
    "    def __init__(self, id, form, gpa, name):\n",
    "        self.id = id\n",
    "        self.form = form\n",
    "        self.gpa = gpa\n",
    "        self.name = name\n",
    "        self.classes = []\n",
    "\n",
    "    # Overriding methods\n",
    "    def __str__(self):\n",
    "        info = \"Name: \" + self.name + \"\\nForm: \" + str(self.form) + \"\\nID: \" + str(self.id)\n",
    "        return info\n",
    "\n",
    "    def __eq__(self, other):\n",
    "        return self.id == other.id\n",
    "\n",
    "    def __gt__(self, other):\n",
    "        return self.gpa > other.gpa\n",
    "\n",
    "    def __lt__(self, other):\n",
    "        return self.gpa < other.gpa\n",
    "\n",
    "    # Getters\n",
    "    def get_id(self):\n",
    "        return self.id\n",
    "\n",
    "    def get_form(self):\n",
    "        return self.form\n",
    "\n",
    "    def get_gpa(self):\n",
    "        return self.gpa\n",
    "\n",
    "    def get_name(self):\n",
    "        return self.name\n",
    "\n",
    "    def get_classes(self):\n",
    "        return self.classes\n",
    "\n",
    "    # Setters\n",
    "    def set_form(self, new_form):\n",
    "        self.form = new_form\n",
    "\n",
    "    def set_gpa(self, new_gpa):\n",
    "        self.gpa = new_gpa\n",
    "\n",
    "    def add_class(self, new_class):\n",
    "        self.classes.append(new_class)\n",
    "    \n",
    "    def drop_class(self, class_name):\n",
    "        if class_name in self.classes:\n",
    "            self.classes.remove(class_name)\n",
    "            return True\n",
    "        else:\n",
    "            print(\"Cannot drop class that you're not taking\")\n",
    "            return False\n",
    "\n",
    "    def input_classes(self):\n",
    "        new_class = input(\"Enter a class name; type 'quit' to quit\")\n",
    "        while new_class != \"quit\":\n",
    "            self.classes.append(new_class)\n",
    "            new_class = input(\"Enter a class name; type 'quit' to quit\")\n",
    "\n",
    "        "
   ]
  },
  {
   "cell_type": "code",
   "execution_count": 3,
   "metadata": {},
   "outputs": [],
   "source": [
    "s1 = Student(15568, 4, 3.7, \"Jimmy Lesko\")\n",
    "s2 = Student(15743, 4, 2.1, \"John Winkler\")\n",
    "s3 = Student(15555, 5, 3.3, \"Parker Somboonsong\")"
   ]
  },
  {
   "cell_type": "code",
   "execution_count": 4,
   "metadata": {},
   "outputs": [
    {
     "name": "stdout",
     "output_type": "stream",
     "text": [
      "Name: Jimmy Lesko\n",
      "Form: 4\n",
      "ID: 15568\n"
     ]
    }
   ],
   "source": [
    "print(s1)"
   ]
  },
  {
   "cell_type": "code",
   "execution_count": 5,
   "metadata": {},
   "outputs": [
    {
     "name": "stdout",
     "output_type": "stream",
     "text": [
      "Name: John Winkler\n",
      "Form: 4\n",
      "ID: 15743\n"
     ]
    }
   ],
   "source": [
    "print(s2)"
   ]
  },
  {
   "cell_type": "code",
   "execution_count": 6,
   "metadata": {},
   "outputs": [
    {
     "name": "stdout",
     "output_type": "stream",
     "text": [
      "Name: Parker Somboonsong\n",
      "Form: 5\n",
      "ID: 15555\n"
     ]
    }
   ],
   "source": [
    "print(s3)"
   ]
  },
  {
   "cell_type": "code",
   "execution_count": 7,
   "metadata": {},
   "outputs": [],
   "source": [
    "s1.add_class(\"Intro to Python\")\n",
    "s2.add_class(\"Intro to Python\")\n",
    "s3.add_class(\"Intro to Python\")"
   ]
  },
  {
   "cell_type": "code",
   "execution_count": 8,
   "metadata": {},
   "outputs": [
    {
     "data": {
      "text/plain": [
       "['Intro to Python']"
      ]
     },
     "execution_count": 8,
     "metadata": {},
     "output_type": "execute_result"
    }
   ],
   "source": [
    "s1.get_classes()"
   ]
  },
  {
   "cell_type": "code",
   "execution_count": 9,
   "metadata": {},
   "outputs": [
    {
     "data": {
      "text/plain": [
       "['Intro to Python']"
      ]
     },
     "execution_count": 9,
     "metadata": {},
     "output_type": "execute_result"
    }
   ],
   "source": [
    "s3.get_classes()"
   ]
  },
  {
   "cell_type": "code",
   "execution_count": 10,
   "metadata": {},
   "outputs": [],
   "source": [
    "s3.input_classes()"
   ]
  },
  {
   "cell_type": "code",
   "execution_count": 11,
   "metadata": {},
   "outputs": [
    {
     "data": {
      "text/plain": [
       "['Intro to Python', 'Physics', 'History', 'Algebra']"
      ]
     },
     "execution_count": 11,
     "metadata": {},
     "output_type": "execute_result"
    }
   ],
   "source": [
    "s3.get_classes()"
   ]
  },
  {
   "cell_type": "code",
   "execution_count": null,
   "metadata": {},
   "outputs": [],
   "source": []
  }
 ],
 "metadata": {
  "kernelspec": {
   "display_name": "Python 3",
   "language": "python",
   "name": "python3"
  },
  "language_info": {
   "codemirror_mode": {
    "name": "ipython",
    "version": 3
   },
   "file_extension": ".py",
   "mimetype": "text/x-python",
   "name": "python",
   "nbconvert_exporter": "python",
   "pygments_lexer": "ipython3",
   "version": "3.11.4"
  }
 },
 "nbformat": 4,
 "nbformat_minor": 2
}
