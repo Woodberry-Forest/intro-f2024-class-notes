{
 "cells": [
  {
   "cell_type": "markdown",
   "metadata": {},
   "source": [
    "# Class 1\n",
    "\n",
    "HW 2 Due tonight\n",
    "\n",
    "1. Documentation searches\n",
    "2. Honor Code\n",
    "3. Class focus\n",
    "4. Output and appropriate language\n",
    "5. Late work"
   ]
  },
  {
   "cell_type": "markdown",
   "metadata": {},
   "source": [
    "# New material\n",
    "\n",
    "1. Review data structures\n",
    "2. File Input/Output\n",
    "3. Functions\n",
    "4. Algorithms"
   ]
  },
  {
   "cell_type": "markdown",
   "metadata": {
    "vscode": {
     "languageId": "plaintext"
    }
   },
   "source": [
    "A dictionary is a collection of key-value pairs"
   ]
  },
  {
   "cell_type": "code",
   "execution_count": 12,
   "metadata": {},
   "outputs": [
    {
     "name": "stdout",
     "output_type": "stream",
     "text": [
      "Jimmy has a grade of 43\n",
      "John has a grade of 6\n",
      "Kobie has a grade of 2\n",
      "Parker has a grade of 35\n"
     ]
    }
   ],
   "source": [
    "grades = {}\n",
    "\n",
    "roster = [\"Jimmy\", \"John\", \"Kobie\", \"Parker\"]\n",
    "\n",
    "for name in roster:\n",
    "    grade = int(input(\"Provide a grade for %s:\"%name))\n",
    "    grades[name] = grade\n",
    "    print(\"%s has a grade of %i\"%(name, grade))"
   ]
  },
  {
   "cell_type": "code",
   "execution_count": 13,
   "metadata": {},
   "outputs": [
    {
     "data": {
      "text/plain": [
       "{'Jimmy': 43, 'John': 6, 'Kobie': 2, 'Parker': 35}"
      ]
     },
     "execution_count": 13,
     "metadata": {},
     "output_type": "execute_result"
    }
   ],
   "source": [
    "grades"
   ]
  },
  {
   "cell_type": "code",
   "execution_count": 16,
   "metadata": {},
   "outputs": [
    {
     "data": {
      "text/plain": [
       "['Jimmy', 'John', 'Kobie', 'Parker']"
      ]
     },
     "execution_count": 16,
     "metadata": {},
     "output_type": "execute_result"
    }
   ],
   "source": [
    "roster"
   ]
  },
  {
   "cell_type": "code",
   "execution_count": 18,
   "metadata": {},
   "outputs": [
    {
     "data": {
      "text/plain": [
       "{'Jimmy': 0, 'John': 0, 'Kobie': 0, 'Parker': 0}"
      ]
     },
     "execution_count": 18,
     "metadata": {},
     "output_type": "execute_result"
    }
   ],
   "source": [
    "grades_base = {name:0 for name in roster}\n",
    "\n",
    "grades_base"
   ]
  },
  {
   "cell_type": "markdown",
   "metadata": {},
   "source": [
    "# Functions"
   ]
  },
  {
   "cell_type": "code",
   "execution_count": 25,
   "metadata": {},
   "outputs": [],
   "source": [
    "def func(x):\n",
    "    return x**3"
   ]
  },
  {
   "cell_type": "code",
   "execution_count": 26,
   "metadata": {},
   "outputs": [
    {
     "data": {
      "text/plain": [
       "-64"
      ]
     },
     "execution_count": 26,
     "metadata": {},
     "output_type": "execute_result"
    }
   ],
   "source": [
    "func(-4)"
   ]
  },
  {
   "cell_type": "code",
   "execution_count": 31,
   "metadata": {},
   "outputs": [
    {
     "name": "stdout",
     "output_type": "stream",
     "text": [
      "Mr. Tucker\n"
     ]
    }
   ],
   "source": [
    "def grade_input(roster):\n",
    "    \"\"\"Allows user input for grades for a roster\n",
    "\n",
    "    Args:\n",
    "        roster (list): list of names in class\n",
    "    \"\"\"\n",
    "    grades = {}\n",
    "\n",
    "    for name in roster:\n",
    "        grade = int(input(\"Provide a grade for %s:\"%name))\n",
    "        grades[name] = grade\n",
    "        # print(\"%s has a grade of %i\"%(name, grade))\n",
    "    return grades\n",
    "\n",
    "print(\"Mr. Tucker\")"
   ]
  },
  {
   "cell_type": "code",
   "execution_count": 29,
   "metadata": {},
   "outputs": [
    {
     "data": {
      "text/plain": [
       "{'George': 0, 'Kevin': 81, 'Steve': 99}"
      ]
     },
     "execution_count": 29,
     "metadata": {},
     "output_type": "execute_result"
    }
   ],
   "source": [
    "class1_roster = [\"George\", \"Kevin\", \"Steve\"]\n",
    "grade_input(class1_roster)"
   ]
  },
  {
   "cell_type": "code",
   "execution_count": 30,
   "metadata": {},
   "outputs": [
    {
     "data": {
      "text/plain": [
       "{'Jimmy': 23, 'John': 2365, 'Kobie': 23, 'Parker': 1}"
      ]
     },
     "execution_count": 30,
     "metadata": {},
     "output_type": "execute_result"
    }
   ],
   "source": [
    "roster = [\"Jimmy\", \"John\", \"Kobie\", \"Parker\"]\n",
    "grade_input(roster)"
   ]
  },
  {
   "cell_type": "markdown",
   "metadata": {},
   "source": [
    "# File I/O"
   ]
  },
  {
   "cell_type": "code",
   "execution_count": 35,
   "metadata": {},
   "outputs": [],
   "source": [
    "path = \"./frost.txt\"\n",
    "path = \"./class1/frost.txt\""
   ]
  },
  {
   "cell_type": "code",
   "execution_count": 33,
   "metadata": {},
   "outputs": [],
   "source": [
    "with open(path, \"r\") as f:\n",
    "    text = f.read()"
   ]
  },
  {
   "cell_type": "code",
   "execution_count": 34,
   "metadata": {},
   "outputs": [
    {
     "data": {
      "text/plain": [
       "\"The Project Gutenberg eBook of A Boy's Will\\n    \\nThis ebook is for the use of anyone anywhere in the United States and\\nmost other parts of the world at no cost and with almost no restrictions\\nwhatsoever. You may copy it, give it away or re-use it under the terms\\nof the Project Gutenberg License included with this ebook or online\\nat www.gutenberg.org. If you are not located in the United States,\\nyou will have to check the laws of the country where you are located\\nbefore using this eBook.\\n\\nTitle: A Boy's Will\\n\\nAuthor: Robert Frost\\n\\nRelease date: January 1, 2002 [eBook #3021]\\n                Most recently updated: January 17, 2009\\n\\nLanguage: English\\n\\nCredits: Produced by David Reed, and David Widger\\n\\n\\n*** START OF THE PROJECT GUTENBERG EBOOK A BOY'S WILL ***\\n\\n\\n\\n\\nProduced by David Reed\\n\\n\\n\\n\\n\\nA BOY'S WILL\\n\\nBy Robert Frost\\n\\n\\nCONTENTS\\n\\n    Part I\\n        Into My Own\\n            The youth is persuaded that he will be rather more than less himself\\n            for having forsworn the world.\\n        Ghost House\\n            He is happy in society of his choosing.\\n        My November Guest\\n            He is in love with being misunderstood.\\n        Love and a Question\\n            He is in doubt whether to admit real trouble to a place beside the\\n            hearth with love.\\n        A Late Walk\\n            He courts the autumnal mood.\\n        Stars\\n            There is no oversight of human affairs.\\n        Storm Fear\\n            He is afraid of his own isolation.\\n        Wind and Window Flower\\n            Out of the winter things he fashions a story of modern love.\\n        To the Thawing Wind (audio)\\n            He calls on change through the violence of the elements.\\n        A Prayer in Spring\\n            He discovers that the greatness of love lies not in forward-looking\\n            thoughts;\\n        Flower-gathering\\n            nor yet in any spur it may be to ambition.\\n        Rose Pogonias\\n            He is no dissenter from the ritualism of nature;\\n        Asking for Roses\\n            nor from the ritualism of youth which is make-believe.\\n        Waiting--Afield at Dusk\\n            He arrives at the turn of the year.\\n        In a Vale\\n            Out of old longings he fashions a story.\\n        A Dream Pang\\n            He is shown by a dream how really well it is with him.\\n        In Neglect\\n            He is scornful of folk his scorn cannot reach.\\n        The Vantage Point\\n            And again scornful, but there is no one hurt.\\n        Mowing\\n            He takes up life simply with the small tasks.\\n        Going for Water\\n\\n    Part II\\n        Revelation\\n            He resolves to become intelligible, at least to himself, since there\\n            is no help else;\\n        The Trial by Existence\\n            and to know definitely what he thinks about the soul;\\n        In Equal Sacrifice\\n            about love;\\n        The Tuft of Flowers\\n            about fellowship;\\n        Spoils of the Dead\\n            about death;\\n        Pan with Us\\n            about art (his own);\\n        The Demiurge's Laugh\\n            about science.\\n\\n    Part III\\n        Now Close the Windows\\n            It is time to make an end of speaking.\\n        A Line-storm Song\\n            It is the autumnal mood with a difference.\\n        October\\n            He sees days slipping from him that were the best for what they\\n            were.\\n        My Butterfly\\n            There are things that can never be the same.\\n        Reluctance\\n\\n\\n\\n\\nInto My Own\\n\\n    ONE of my wishes is that those dark trees,\\n    So old and firm they scarcely show the breeze,\\n    Were not, as 'twere, the merest mask of gloom,\\n    But stretched away unto the edge of doom.\\n    I should not be withheld but that some day\\n    Into their vastness I should steal away,\\n    Fearless of ever finding open land,\\n    Or highway where the slow wheel pours the sand.\\n    I do not see why I should e'er turn back,\\n    Or those should not set forth upon my track\\n    To overtake me, who should miss me here\\n    And long to know if still I held them dear.\\n    They would not find me changed from him they knew--\\n    Only more sure of all I thought was true.\\n\\n\\n\\n\\nGhost House\\n\\n    I DWELL in a lonely house I know\\n    That vanished many a summer ago,\\n    And left no trace but the cellar walls,\\n    And a cellar in which the daylight falls,\\n    And the purple-stemmed wild raspberries grow.\\n    O'er ruined fences the grape-vines shield\\n    The woods come back to the mowing field;\\n    The orchard tree has grown one copse\\n    Of new wood and old where the woodpecker chops;\\n    The footpath down to the well is healed.\\n    I dwell with a strangely aching heart\\n    In that vanished abode there far apart\\n    On that disused and forgotten road\\n    That has no dust-bath now for the toad.\\n    Night comes; the black bats tumble and dart;\\n    The whippoorwill is coming to shout\\n    And hush and cluck and flutter about:\\n    I hear him begin far enough away\\n    Full many a time to say his say\\n    Before he arrives to say it out.\\n    It is under the small, dim, summer star.\\n    I know not who these mute folk are\\n    Who share the unlit place with me--\\n    Those stones out under the low-limbed tree\\n    Doubtless bear names that the mosses mar.\\n    They are tireless folk, but slow and sad,\\n    Though two, close-keeping, are lass and lad,--\\n    With none among them that ever sings,\\n    And yet, in view of how many things,\\n    As sweet companions as might be had.\\n\\n\\n\\n\\nMy November Guest\\n\\n    MY Sorrow, when she's here with me,\\n    Thinks these dark days of autumn rain\\n    Are beautiful as days can be;\\n    She loves the bare, the withered tree;\\n    She walks the sodden pasture lane.\\n    Her pleasure will not let me stay.\\n    She talks and I am fain to list:\\n    She's glad the birds are gone away,\\n    She's glad her simple worsted gray\\n    Is silver now with clinging mist.\\n    The desolate, deserted trees,\\n    The faded earth, the heavy sky,\\n    The beauties she so truly sees,\\n    She thinks I have no eye for these,\\n    And vexes me for reason why.\\n    Not yesterday I learned to know\\n    The love of bare November days\\n    Before the coming of the snow,\\n    But it were vain to tell her so,\\n    And they are better for her praise.\\n\\n\\n\\n\\nLove and a Question\\n\\n    A STRANGER came to the door at eve,\\n    And he spoke the bridegroom fair.\\n    He bore a green-white stick in his hand,\\n    And, for all burden, care.\\n    He asked with the eyes more than the lips\\n    For a shelter for the night,\\n    And he turned and looked at the road afar\\n    Without a window light.\\n    The bridegroom came forth into the porch\\n    With, 'Let us look at the sky,\\n    And question what of the night to be,\\n    Stranger, you and I.'\\n    The woodbine leaves littered the yard,\\n    The woodbine berries were blue,\\n    Autumn, yes, winter was in the wind;\\n    'Stranger, I wish I knew.'\\n    Within, the bride in the dusk alone\\n    Bent over the open fire,\\n    Her face rose-red with the glowing coal\\n    And the thought of the heart's desire.\\n    The bridegroom looked at the weary road,\\n    Yet saw but her within,\\n    And wished her heart in a case of gold\\n    And pinned with a silver pin.\\n    The bridegroom thought it little to give\\n    A dole of bread, a purse,\\n    A heartfelt prayer for the poor of God,\\n    Or for the rich a curse;\\n    But whether or not a man was asked\\n    To mar the love of two\\n    By harboring woe in the bridal house,\\n    The bridegroom wished he knew.\\n\\n\\n\\n\\nA Late Walk\\n\\n    WHEN I go up through the mowing field,\\n    The headless aftermath,\\n    Smooth-laid like thatch with the heavy dew,\\n    Half closes the garden path.\\n    And when I come to the garden ground,\\n    The whir of sober birds\\n    Up from the tangle of withered weeds\\n    Is sadder than any words.\\n    A tree beside the wall stands bare,\\n    But a leaf that lingered brown,\\n    Disturbed, I doubt not, by my thought,\\n    Comes softly rattling down.\\n    I end not far from my going forth\\n    By picking the faded blue\\n    Of the last remaining aster flower\\n    To carry again to you.\\n\\n\\n\\n\\nStars\\n\\n    HOW countlessly they congregate\\n    O'er our tumultuous snow,\\n    Which flows in shapes as tall as trees\\n    When wintry winds do blow!--\\n    As if with keenness for our fate,\\n    Our faltering few steps on\\n    To white rest, and a place of rest\\n    Invisible at dawn,--\\n    And yet with neither love nor hate,\\n    Those stars like some snow-white\\n    Minerva's snow-white marble eyes\\n    Without the gift of sight.\\n\\n\\n\\n\\nStorm Fear\\n\\n    WHEN the wind works against us in the dark,\\n    And pelts with snow\\n    The lowest chamber window on the east,\\n    And whispers with a sort of stifled bark,\\n    The beast,\\n    'Come out! Come out!'--\\n    It costs no inward struggle not to go,\\n    Ah, no!\\n    I count our strength,\\n    Two and a child,\\n    Those of us not asleep subdued to mark\\n    How the cold creeps as the fire dies at length,--\\n    How drifts are piled,\\n    Dooryard and road ungraded,\\n    Till even the comforting barn grows far away\\n    And my heart owns a doubt\\n    Whether 'tis in us to arise with day\\n    And save ourselves unaided.\\n\\n\\n\\n\\nWind and Window Flower\\n\\n    LOVERS, forget your love,\\n    And list to the love of these,\\n    She a window flower,\\n    And he a winter breeze.\\n    When the frosty window veil\\n    Was melted down at noon,\\n    And the cagèd yellow bird\\n    Hung over her in tune,\\n    He marked her through the pane,\\n    He could not help but mark,\\n    And only passed her by,\\n    To come again at dark.\\n    He was a winter wind,\\n    Concerned with ice and snow,\\n    Dead weeds and unmated birds,\\n    And little of love could know.\\n    But he sighed upon the sill,\\n    He gave the sash a shake,\\n    As witness all within\\n    Who lay that night awake.\\n    Perchance he half prevailed\\n    To win her for the flight\\n    From the firelit looking-glass\\n    And warm stove-window light.\\n    But the flower leaned aside\\n    And thought of naught to say,\\n    And morning found the breeze\\n    A hundred miles away.\\n\\n\\n\\n\\nTo the Thawing Wind (audio)\\n\\n    COME with rain, O loud Southwester!\\n    Bring the singer, bring the nester;\\n    Give the buried flower a dream;\\n    Make the settled snow-bank steam;\\n    Find the brown beneath the white;\\n    But whate'er you do to-night,\\n    Bathe my window, make it flow,\\n    Melt it as the ices go;\\n    Melt the glass and leave the sticks\\n    Like a hermit's crucifix;\\n    Burst into my narrow stall;\\n    Swing the picture on the wall;\\n    Run the rattling pages o'er;\\n    Scatter poems on the floor;\\n    Turn the poet out of door.\\n\\n\\n\\n\\nA Prayer in Spring\\n\\n    OH, give us pleasure in the flowers to-day;\\n    And give us not to think so far away\\n    As the uncertain harvest; keep us here\\n    All simply in the springing of the year.\\n    Oh, give us pleasure in the orchard white,\\n    Like nothing else by day, like ghosts by night;\\n    And make us happy in the happy bees,\\n    The swarm dilating round the perfect trees.\\n    And make us happy in the darting bird\\n    That suddenly above the bees is heard,\\n    The meteor that thrusts in with needle bill,\\n    And off a blossom in mid air stands still.\\n    For this is love and nothing else is love,\\n    The which it is reserved for God above\\n    To sanctify to what far ends He will,\\n    But which it only needs that we fulfil.\\n\\n\\n\\n\\nFlower-gathering\\n\\n    I LEFT you in the morning,\\n    And in the morning glow,\\n    You walked a way beside me\\n    To make me sad to go.\\n    Do you know me in the gloaming,\\n    Gaunt and dusty grey with roaming?\\n    Are you dumb because you know me not,\\n    Or dumb because you know?\\n    All for me? And not a question\\n    For the faded flowers gay\\n    That could take me from beside you\\n    For the ages of a day?\\n    They are yours, and be the measure\\n    Of their worth for you to treasure,\\n    The measure of the little while\\n    That I've been long away.\\n\\n\\n\\n\\nRose Pogonias\\n\\n    A SATURATED meadow,\\n    Sun-shaped and jewel-small,\\n    A circle scarcely wider\\n    Than the trees around were tall;\\n    Where winds were quite excluded,\\n    And the air was stifling sweet\\n    With the breath of many flowers,--\\n    A temple of the heat.\\n    There we bowed us in the burning,\\n    As the sun's right worship is,\\n    To pick where none could miss them\\n    A thousand orchises;\\n    For though the grass was scattered,\\n    Yet every second spear\\n    Seemed tipped with wings of color,\\n    That tinged the atmosphere.\\n    We raised a simple prayer\\n    Before we left the spot,\\n    That in the general mowing\\n    That place might be forgot;\\n    Or if not all so favoured,\\n    Obtain such grace of hours,\\n    That none should mow the grass there\\n    While so confused with flowers.\\n\\n\\n\\n\\nAsking for Roses\\n\\n    A HOUSE that lacks, seemingly, mistress and master,\\n    With doors that none but the wind ever closes,\\n    Its floor all littered with glass and with plaster;\\n    It stands in a garden of old-fashioned roses.\\n    I pass by that way in the gloaming with Mary;\\n    'I wonder,' I say, 'who the owner of those is.\\n    'Oh, no one you know,' she answers me airy,\\n    'But one we must ask if we want any roses.'\\n    So we must join hands in the dew coming coldly\\n    There in the hush of the wood that reposes,\\n    And turn and go up to the open door boldly,\\n    And knock to the echoes as beggars for roses.\\n    'Pray, are you within there, Mistress Who-were-you?'\\n    'Tis Mary that speaks and our errand discloses.\\n    'Pray, are you within there? Bestir you, bestir you!\\n    'Tis summer again; there's two come for roses.\\n    'A word with you, that of the singer recalling--\\n    Old Herrick: a saying that every maid knows is\\n    A flower unplucked is but left to the falling,\\n    And nothing is gained by not gathering roses.'\\n    We do not loosen our hands' intertwining\\n    (Not caring so very much what she supposes),\\n    There when she comes on us mistily shining\\n    And grants us by silence the boon of her roses.\\n\\n\\n\\n\\nWaiting Afield at Dusk\\n\\n    WHAT things for dream there are when spectre-like,\\n    Moving among tall haycocks lightly piled,\\n    I enter alone upon the stubble field,\\n    From which the laborers' voices late have died,\\n    And in the antiphony of afterglow\\n    And rising full moon, sit me down\\n    Upon the full moon's side of the first haycock\\n    And lose myself amid so many alike.\\n    I dream upon the opposing lights of the hour,\\n    Preventing shadow until the moon prevail;\\n    I dream upon the night-hawks peopling heaven,\\n    Each circling each with vague unearthly cry,\\n    Or plunging headlong with fierce twang afar;\\n    And on the bat's mute antics, who would seem\\n    Dimly to have made out my secret place,\\n    Only to lose it when he pirouettes,\\n    And seek it endlessly with purblind haste;\\n    On the last swallow's sweep; and on the rasp\\n    In the abyss of odor and rustle at my back,\\n    That, silenced by my advent, finds once more,\\n    After an interval, his instrument,\\n    And tries once--twice--and thrice if I be there;\\n    And on the worn book of old-golden song\\n    I brought not here to read, it seems, but hold\\n    And freshen in this air of withering sweetness;\\n    But on the memory of one absent most,\\n    For whom these lines when they shall greet her eye.\\n\\n\\n\\n\\nIn a Vale\\n\\n    WHEN I was young, we dwelt in a vale\\n    By a misty fen that rang all night,\\n    And thus it was the maidens pale\\n    I knew so well, whose garments trail\\n    Across the reeds to a window light.\\n    The fen had every kind of bloom,\\n    And for every kind there was a face,\\n    And a voice that has sounded in my room\\n    Across the sill from the outer gloom.\\n    Each came singly unto her place,\\n    But all came every night with the mist;\\n    And often they brought so much to say\\n    Of things of moment to which, they wist,\\n    One so lonely was fain to list,\\n    That the stars were almost faded away\\n    Before the last went, heavy with dew,\\n    Back to the place from which she came--\\n    Where the bird was before it flew,\\n    Where the flower was before it grew,\\n    Where bird and flower were one and the same.\\n    And thus it is I know so well\\n    Why the flower has odor, the bird has song.\\n    You have only to ask me, and I can tell.\\n    No, not vainly there did I dwell,\\n    Nor vainly listen all the night long.\\n\\n\\n\\n\\nA Dream Pang\\n\\n    I HAD withdrawn in forest, and my song\\n    Was swallowed up in leaves that blew alway;\\n    And to the forest edge you came one day\\n    (This was my dream) and looked and pondered long,\\n    But did not enter, though the wish was strong:\\n    You shook your pensive head as who should say,\\n    'I dare not--too far in his footsteps stray--\\n    He must seek me would he undo the wrong.\\n    Not far, but near, I stood and saw it all\\n    Behind low boughs the trees let down outside;\\n    And the sweet pang it cost me not to call\\n    And tell you that I saw does still abide.\\n    But 'tis not true that thus I dwelt aloof,\\n    For the wood wakes, and you are here for proof.\\n\\n\\n\\n\\nIn Neglect\\n\\n    THEY leave us so to the way we took,\\n    As two in whom they were proved mistaken,\\n    That we sit sometimes in the wayside nook,\\n    With mischievous, vagrant, seraphic look,\\n    And try if we cannot feel forsaken.\\n\\n\\n\\n\\nThe Vantage Point\\n\\n    IF tired of trees I seek again mankind,\\n    Well I know where to hie me--in the dawn,\\n    To a slope where the cattle keep the lawn.\\n    There amid lolling juniper reclined,\\n    Myself unseen, I see in white defined\\n    Far off the homes of men, and farther still,\\n    The graves of men on an opposing hill,\\n    Living or dead, whichever are to mind.\\n    And if by moon I have too much of these,\\n    I have but to turn on my arm, and lo,\\n    The sun-burned hillside sets my face aglow,\\n    My breathing shakes the bluet like a breeze,\\n    I smell the earth, I smell the bruisèd plant,\\n    I look into the crater of the ant.\\n\\n\\n\\n\\nMowing\\n\\n    THERE was never a sound beside the wood but one,\\n    And that was my long scythe whispering to the ground.\\n    What was it it whispered? I knew not well myself;\\n    Perhaps it was something about the heat of the sun,\\n    Something, perhaps, about the lack of sound--\\n    And that was why it whispered and did not speak.\\n    It was no dream of the gift of idle hours,\\n    Or easy gold at the hand of fay or elf:\\n    Anything more than the truth would have seemed too weak\\n    To the earnest love that laid the swale in rows,\\n    Not without feeble-pointed spikes of flowers\\n    (Pale orchises), and scared a bright green snake.\\n    The fact is the sweetest dream that labor knows.\\n    My long scythe whispered and left the hay to make.\\n\\n\\n\\n\\nGoing for Water\\n\\n    THE well was dry beside the door,\\n    And so we went with pail and can\\n    Across the fields behind the house\\n    To seek the brook if still it ran;\\n    Not loth to have excuse to go,\\n    Because the autumn eve was fair\\n    (Though chill), because the fields were ours,\\n    And by the brook our woods were there.\\n    We ran as if to meet the moon\\n    That slowly dawned behind the trees,\\n    The barren boughs without the leaves,\\n    Without the birds, without the breeze.\\n    But once within the wood, we paused\\n    Like gnomes that hid us from the moon,\\n    Ready to run to hiding new\\n    With laughter when she found us soon.\\n    Each laid on other a staying hand\\n    To listen ere we dared to look,\\n    And in the hush we joined to make\\n    We heard, we knew we heard the brook.\\n    A note as from a single place,\\n    A slender tinkling fall that made\\n    Now drops that floated on the pool\\n    Like pearls, and now a silver blade.\\n\\n\\n\\n\\nRevelation\\n\\n    WE make ourselves a place apart\\n    Behind light words that tease and flout,\\n    But oh, the agitated heart\\n    Till someone find us really out.\\n    'Tis pity if the case require\\n    (Or so we say) that in the end\\n    We speak the literal to inspire\\n    The understanding of a friend.\\n    But so with all, from babes that play\\n    At hide-and-seek to God afar,\\n    So all who hide too well away\\n    Must speak and tell us where they are.\\n\\n\\n\\n\\nThe Trial by Existence\\n\\n    EVEN the bravest that are slain\\n    Shall not dissemble their surprise\\n    On waking to find valor reign,\\n    Even as on earth, in paradise;\\n    And where they sought without the sword\\n    Wide fields of asphodel fore'er,\\n    To find that the utmost reward\\n    Of daring should be still to dare.\\n    The light of heaven falls whole and white\\n    And is not shattered into dyes,\\n    The light for ever is morning light;\\n    The hills are verdured pasture-wise;\\n    The angel hosts with freshness go,\\n    And seek with laughter what to brave;--\\n    And binding all is the hushed snow\\n    Of the far-distant breaking wave.\\n    And from a cliff-top is proclaimed\\n    The gathering of the souls for birth,\\n    The trial by existence named,\\n    The obscuration upon earth.\\n    And the slant spirits trooping by\\n    In streams and cross- and counter-streams\\n    Can but give ear to that sweet cry\\n    For its suggestion of what dreams!\\n    And the more loitering are turned\\n    To view once more the sacrifice\\n    Of those who for some good discerned\\n    Will gladly give up paradise.\\n    And a white shimmering concourse rolls\\n    Toward the throne to witness there\\n    The speeding of devoted souls\\n    Which God makes his especial care.\\n    And none are taken but who will,\\n    Having first heard the life read out\\n    That opens earthward, good and ill,\\n    Beyond the shadow of a doubt;\\n    And very beautifully God limns,\\n    And tenderly, life's little dream,\\n    But naught extenuates or dims,\\n    Setting the thing that is supreme.\\n    Nor is there wanting in the press\\n    Some spirit to stand simply forth,\\n    Heroic in its nakedness,\\n    Against the uttermost of earth.\\n    The tale of earth's unhonored things\\n    Sounds nobler there than 'neath the sun;\\n    And the mind whirls and the heart sings,\\n    And a shout greets the daring one.\\n    But always God speaks at the end:\\n    'One thought in agony of strife\\n    The bravest would have by for friend,\\n    The memory that he chose the life;\\n    But the pure fate to which you go\\n    Admits no memory of choice,\\n    Or the woe were not earthly woe\\n    To which you give the assenting voice.'\\n    And so the choice must be again,\\n    But the last choice is still the same;\\n    And the awe passes wonder then,\\n    And a hush falls for all acclaim.\\n    And God has taken a flower of gold\\n    And broken it, and used therefrom\\n    The mystic link to bind and hold\\n    Spirit to matter till death come.\\n    'Tis of the essence of life here,\\n    Though we choose greatly, still to lack\\n    The lasting memory at all clear,\\n    That life has for us on the wrack\\n    Nothing but what we somehow chose;\\n    Thus are we wholly stripped of pride\\n    In the pain that has but one close,\\n    Bearing it crushed and mystified.\\n\\n\\n\\n\\nIn Equal Sacrifice\\n\\n    THUS of old the Douglas did:\\n    He left his land as he was bid\\n    With the royal heart of Robert the Bruce\\n    In a golden case with a golden lid,\\n    To carry the same to the Holy Land;\\n    By which we see and understand\\n    That that was the place to carry a heart\\n    At loyalty and love's command,\\n    And that was the case to carry it in.\\n    The Douglas had not far to win\\n    Before he came to the land of Spain,\\n    Where long a holy war had been\\n    Against the too-victorious Moor;\\n    And there his courage could not endure\\n    Not to strike a blow for God\\n    Before he made his errand sure.\\n    And ever it was intended so,\\n    That a man for God should strike a blow,\\n    No matter the heart he has in charge\\n    For the Holy Land where hearts should go.\\n    But when in battle the foe were met,\\n    The Douglas found him sore beset,\\n    With only strength of the fighting arm\\n    For one more battle passage yet--\\n    And that as vain to save the day\\n    As bring his body safe away--\\n    Only a signal deed to do\\n    And a last sounding word to say.\\n    The heart he wore in a golden chain\\n    He swung and flung forth into the plain,\\n    And followed it crying 'Heart or death!'\\n    And fighting over it perished fain.\\n    So may another do of right,\\n    Give a heart to the hopeless fight,\\n    The more of right the more he loves;\\n    So may another redouble might\\n    For a few swift gleams of the angry brand,\\n    Scorning greatly not to demand\\n    In equal sacrifice with his\\n    The heart he bore to the Holy Land.\\n\\n\\n\\n\\nThe Tuft of Flowers\\n\\n    I WENT to turn the grass once after one\\n    Who mowed it in the dew before the sun.\\n    The dew was gone that made his blade so keen\\n    Before I came to view the leveled scene.\\n    I looked for him behind an isle of trees;\\n    I listened for his whetstone on the breeze.\\n    But he had gone his way, the grass all mown,\\n    And I must be, as he had been,--alone,\\n    'As all must be,' I said within my heart,\\n    'Whether they work together or apart.'\\n    But as I said it, swift there passed me by\\n    On noiseless wing a 'wildered butterfly,\\n    Seeking with memories grown dim o'er night\\n    Some resting flower of yesterday's delight.\\n    And once I marked his flight go round and round,\\n    As where some flower lay withering on the ground.\\n    And then he flew as far as eye could see,\\n    And then on tremulous wing came back to me.\\n    I thought of questions that have no reply,\\n    And would have turned to toss the grass to dry;\\n    But he turned first, and led my eye to look\\n    At a tall tuft of flowers beside a brook,\\n    A leaping tongue of bloom the scythe had spared\\n    Beside a reedy brook the scythe had bared.\\n    I left my place to know them by their name,\\n    Finding them butterfly weed when I came.\\n    The mower in the dew had loved them thus,\\n    By leaving them to flourish, not for us,\\n    Nor yet to draw one thought of ours to him.\\n    But from sheer morning gladness at the brim.\\n    The butterfly and I had lit upon,\\n    Nevertheless, a message from the dawn,\\n    That made me hear the wakening birds around,\\n    And hear his long scythe whispering to the ground,\\n    And feel a spirit kindred to my own;\\n    So that henceforth I worked no more alone;\\n    But glad with him, I worked as with his aid,\\n    And weary, sought at noon with him the shade;\\n    And dreaming, as it were, held brotherly speech\\n    With one whose thought I had not hoped to reach.\\n    'Men work together,' I told him from the heart,\\n    'Whether they work together or apart.'\\n\\n\\n\\n\\nSpoils of the Dead\\n\\n    TWO fairies it was\\n    On a still summer day\\n    Came forth in the woods\\n    With the flowers to play.\\n    The flowers they plucked\\n    They cast on the ground\\n    For others, and those\\n    For still others they found.\\n    Flower-guided it was\\n    That they came as they ran\\n    On something that lay\\n    In the shape of a man.\\n    The snow must have made\\n    The feathery bed\\n    When this one fell\\n    On the sleep of the dead.\\n    But the snow was gone\\n    A long time ago,\\n    And the body he wore\\n    Nigh gone with the snow.\\n    The fairies drew near\\n    And keenly espied\\n    A ring on his hand\\n    And a chain at his side.\\n    They knelt in the leaves\\n    And eerily played\\n    With the glittering things,\\n    And were not afraid.\\n    And when they went home\\n    To hide in their burrow,\\n    They took them along\\n    To play with to-morrow.\\n    When you came on death,\\n    Did you not come flower-guided\\n    Like the elves in the wood?\\n    I remember that I did.\\n    But I recognised death\\n    With sorrow and dread,\\n    And I hated and hate\\n    The spoils of the dead.\\n\\n\\n\\n\\nPan with Us\\n\\n    PAN came out of the woods one day,--\\n    His skin and his hair and his eyes were gray,\\n    The gray of the moss of walls were they,--\\n    And stood in the sun and looked his fill\\n    At wooded valley and wooded hill.\\n    He stood in the zephyr, pipes in hand,\\n    On a height of naked pasture land;\\n    In all the country he did command\\n    He saw no smoke and he saw no roof.\\n    That was well! and he stamped a hoof.\\n    His heart knew peace, for none came here\\n    To this lean feeding save once a year\\n    Someone to salt the half-wild steer,\\n    Or homespun children with clicking pails\\n    Who see no little they tell no tales.\\n    He tossed his pipes, too hard to teach\\n    A new-world song, far out of reach,\\n    For a sylvan sign that the blue jay's screech\\n    And the whimper of hawks beside the sun\\n    Were music enough for him, for one.\\n    Times were changed from what they were:\\n    Such pipes kept less of power to stir\\n    The fruited bough of the juniper\\n    And the fragile bluets clustered there\\n    Than the merest aimless breath of air.\\n    They were pipes of pagan mirth,\\n    And the world had found new terms of worth.\\n    He laid him down on the sun-burned earth\\n    And ravelled a flower and looked away--\\n    Play? Play?--What should he play?\\n\\n\\n\\n\\nThe Demiurge's Laugh\\n\\n    IT was far in the sameness of the wood;\\n    I was running with joy on the Demon's trail,\\n    Though I knew what I hunted was no true god.\\n    It was just as the light was beginning to fail\\n    That I suddenly heard--all I needed to hear:\\n    It has lasted me many and many a year.\\n    The sound was behind me instead of before,\\n    A sleepy sound, but mocking half,\\n    As of one who utterly couldn't care.\\n    The Demon arose from his wallow to laugh,\\n    Brushing the dirt from his eye as he went;\\n    And well I knew what the Demon meant.\\n    I shall not forget how his laugh rang out.\\n    I felt as a fool to have been so caught,\\n    And checked my steps to make pretence\\n    It was something among the leaves I sought\\n    (Though doubtful whether he stayed to see).\\n    Thereafter I sat me against a tree.\\n\\n\\n\\n\\nNow Close the Windows\\n\\n    NOW close the windows and hush all the fields;\\n    If the trees must, let them silently toss;\\n    No bird is singing now, and if there is,\\n    Be it my loss.\\n    It will be long ere the marshes resume,\\n    It will be long ere the earliest bird:\\n    So close the windows and not hear the wind,\\n    But see all wind-stirred.\\n\\n\\n\\n\\n\\nA Line-storm Song\\n\\n    THE line-storm clouds fly tattered and swift,\\n    The road is forlorn all day,\\n    Where a myriad snowy quartz stones lift,\\n    And the hoof-prints vanish away.\\n    The roadside flowers, too wet for the bee,\\n    Expend their bloom in vain.\\n    Come over the hills and far with me,\\n    And be my love in the rain.\\n    The birds have less to say for themselves\\n    In the wood-world's torn despair\\n    Than now these numberless years the elves,\\n    Although they are no less there:\\n    All song of the woods is crushed like some\\n    Wild, easily shattered rose.\\n    Come, be my love in the wet woods; come,\\n    Where the boughs rain when it blows.\\n    There is the gale to urge behind\\n    And bruit our singing down,\\n    And the shallow waters aflutter with wind\\n    From which to gather your gown.\\n    What matter if we go clear to the west,\\n    And come not through dry-shod?\\n    For wilding brooch shall wet your breast\\n    The rain-fresh goldenrod.\\n    Oh, never this whelming east wind swells\\n    But it seems like the sea's return\\n    To the ancient lands where it left the shells\\n    Before the age of the fern;\\n    And it seems like the time when after doubt\\n    Our love came back amain.\\n    Oh, come forth into the storm and rout\\n    And be my love in the rain.\\n\\n\\n\\n\\nOctober\\n\\n    O HUSHED October morning mild,\\n    Thy leaves have ripened to the fall;\\n    To-morrow's wind, if it be wild,\\n    Should waste them all.\\n    The crows above the forest call;\\n    To-morrow they may form and go.\\n    O hushed October morning mild,\\n    Begin the hours of this day slow,\\n    Make the day seem to us less brief.\\n    Hearts not averse to being beguiled,\\n    Beguile us in the way you know;\\n    Release one leaf at break of day;\\n    At noon release another leaf;\\n    One from our trees, one far away;\\n    Retard the sun with gentle mist;\\n    Enchant the land with amethyst.\\n    Slow, slow!\\n    For the grapes' sake, if they were all,\\n    Whose leaves already are burnt with frost,\\n    Whose clustered fruit must else be lost--\\n    For the grapes' sake along the wall.\\n\\n\\n\\n\\nMy Butterfly\\n\\n    THINE emulous fond flowers are dead, too,\\n    And the daft sun-assaulter, he\\n    That frighted thee so oft, is fled or dead:\\n    Save only me\\n    (Nor is it sad to thee!)\\n    Save only me\\n    There is none left to mourn thee in the fields.\\n    The gray grass is not dappled with the snow;\\n    Its two banks have not shut upon the river;\\n    But it is long ago--\\n    It seems forever--\\n    Since first I saw thee glance,\\n    With all the dazzling other ones,\\n    In airy dalliance,\\n    Precipitate in love,\\n    Tossed, tangled, whirled and whirled above,\\n    Like a limp rose-wreath in a fairy dance.\\n    When that was, the soft mist\\n    Of my regret hung not on all the land,\\n    And I was glad for thee,\\n    And glad for me, I wist.\\n    Thou didst not know, who tottered, wandering on high,\\n    That fate had made thee for the pleasure of the wind,\\n    With those great careless wings,\\n    Nor yet did I.\\n    And there were other things:\\n    It seemed God let thee flutter from his gentle clasp:\\n    Then fearful he had let thee win\\n    Too far beyond him to be gathered in,\\n    Snatched thee, o'er eager, with ungentle grasp.\\n    Ah! I remember me\\n    How once conspiracy was rife\\n    Against my life--\\n    The languor of it and the dreaming fond;\\n    Surging, the grasses dizzied me of thought,\\n    The breeze three odors brought,\\n    And a gem-flower waved in a wand!\\n    Then when I was distraught\\n    And could not speak,\\n    Sidelong, full on my cheek,\\n    What should that reckless zephyr fling\\n    But the wild touch of thy dye-dusty wing!\\n    I found that wing broken to-day!\\n    For thou are dead, I said,\\n    And the strange birds say.\\n    I found it with the withered leaves\\n    Under the eaves.\\n\\n\\n\\n\\nReluctance\\n\\n   OUT through the fields and the woods\\n    And over the walls I have wended;\\n    I have climbed the hills of view\\n    And looked at the world, and descended;\\n    I have come by the highway home,\\n    And lo, it is ended.\\n    The leaves are all dead on the ground,\\n    Save those that the oak is keeping\\n    To ravel them one by one\\n    And let them go scraping and creeping\\n    Out over the crusted snow,\\n    When others are sleeping.\\n    And the dead leaves lie huddled and still,\\n    No longer blown hither and thither;\\n    The last lone aster is gone;\\n    The flowers of the witch-hazel wither;\\n    The heart is still aching to seek,\\n    But the feet question 'Whither?'\\n    Ah, when to the heart of man\\n    Was it ever less than a treason\\n    To go with the drift of things,\\n    To yield with a grace to reason,\\n    And bow and accept and accept the end\\n    Of a love or a season?\\n\\n\\n\\n\\n\\n\\n\\n*** END OF THE PROJECT GUTENBERG EBOOK A BOY'S WILL ***\\n\\n\\n    \\n\\nUpdated editions will replace the previous one—the old editions will\\nbe renamed.\\n\\nCreating the works from print editions not protected by U.S. copyright\\nlaw means that no one owns a United States copyright in these works,\\nso the Foundation (and you!) can copy and distribute it in the United\\nStates without permission and without paying copyright\\nroyalties. Special rules, set forth in the General Terms of Use part\\nof this license, apply to copying and distributing Project\\nGutenberg™ electronic works to protect the PROJECT GUTENBERG™\\nconcept and trademark. Project Gutenberg is a registered trademark,\\nand may not be used if you charge for an eBook, except by following\\nthe terms of the trademark license, including paying royalties for use\\nof the Project Gutenberg trademark. If you do not charge anything for\\ncopies of this eBook, complying with the trademark license is very\\neasy. You may use this eBook for nearly any purpose such as creation\\nof derivative works, reports, performances and research. Project\\nGutenberg eBooks may be modified and printed and given away—you may\\ndo practically ANYTHING in the United States with eBooks not protected\\nby U.S. copyright law. Redistribution is subject to the trademark\\nlicense, especially commercial redistribution.\\n\\n\\nSTART: FULL LICENSE\\n\\nTHE FULL PROJECT GUTENBERG LICENSE\\n\\nPLEASE READ THIS BEFORE YOU DISTRIBUTE OR USE THIS WORK\\n\\nTo protect the Project Gutenberg™ mission of promoting the free\\ndistribution of electronic works, by using or distributing this work\\n(or any other work associated in any way with the phrase “Project\\nGutenberg”), you agree to comply with all the terms of the Full\\nProject Gutenberg™ License available with this file or online at\\nwww.gutenberg.org/license.\\n\\nSection 1. General Terms of Use and Redistributing Project Gutenberg™\\nelectronic works\\n\\n1.A. By reading or using any part of this Project Gutenberg™\\nelectronic work, you indicate that you have read, understand, agree to\\nand accept all the terms of this license and intellectual property\\n(trademark/copyright) agreement. If you do not agree to abide by all\\nthe terms of this agreement, you must cease using and return or\\ndestroy all copies of Project Gutenberg™ electronic works in your\\npossession. If you paid a fee for obtaining a copy of or access to a\\nProject Gutenberg™ electronic work and you do not agree to be bound\\nby the terms of this agreement, you may obtain a refund from the person\\nor entity to whom you paid the fee as set forth in paragraph 1.E.8.\\n\\n1.B. “Project Gutenberg” is a registered trademark. It may only be\\nused on or associated in any way with an electronic work by people who\\nagree to be bound by the terms of this agreement. There are a few\\nthings that you can do with most Project Gutenberg™ electronic works\\neven without complying with the full terms of this agreement. See\\nparagraph 1.C below. There are a lot of things you can do with Project\\nGutenberg™ electronic works if you follow the terms of this\\nagreement and help preserve free future access to Project Gutenberg™\\nelectronic works. See paragraph 1.E below.\\n\\n1.C. The Project Gutenberg Literary Archive Foundation (“the\\nFoundation” or PGLAF), owns a compilation copyright in the collection\\nof Project Gutenberg™ electronic works. Nearly all the individual\\nworks in the collection are in the public domain in the United\\nStates. If an individual work is unprotected by copyright law in the\\nUnited States and you are located in the United States, we do not\\nclaim a right to prevent you from copying, distributing, performing,\\ndisplaying or creating derivative works based on the work as long as\\nall references to Project Gutenberg are removed. Of course, we hope\\nthat you will support the Project Gutenberg™ mission of promoting\\nfree access to electronic works by freely sharing Project Gutenberg™\\nworks in compliance with the terms of this agreement for keeping the\\nProject Gutenberg™ name associated with the work. You can easily\\ncomply with the terms of this agreement by keeping this work in the\\nsame format with its attached full Project Gutenberg™ License when\\nyou share it without charge with others.\\n\\n1.D. The copyright laws of the place where you are located also govern\\nwhat you can do with this work. Copyright laws in most countries are\\nin a constant state of change. If you are outside the United States,\\ncheck the laws of your country in addition to the terms of this\\nagreement before downloading, copying, displaying, performing,\\ndistributing or creating derivative works based on this work or any\\nother Project Gutenberg™ work. The Foundation makes no\\nrepresentations concerning the copyright status of any work in any\\ncountry other than the United States.\\n\\n1.E. Unless you have removed all references to Project Gutenberg:\\n\\n1.E.1. The following sentence, with active links to, or other\\nimmediate access to, the full Project Gutenberg™ License must appear\\nprominently whenever any copy of a Project Gutenberg™ work (any work\\non which the phrase “Project Gutenberg” appears, or with which the\\nphrase “Project Gutenberg” is associated) is accessed, displayed,\\nperformed, viewed, copied or distributed:\\n\\n    This eBook is for the use of anyone anywhere in the United States and most\\n    other parts of the world at no cost and with almost no restrictions\\n    whatsoever. You may copy it, give it away or re-use it under the terms\\n    of the Project Gutenberg License included with this eBook or online\\n    at www.gutenberg.org. If you\\n    are not located in the United States, you will have to check the laws\\n    of the country where you are located before using this eBook.\\n  \\n1.E.2. If an individual Project Gutenberg™ electronic work is\\nderived from texts not protected by U.S. copyright law (does not\\ncontain a notice indicating that it is posted with permission of the\\ncopyright holder), the work can be copied and distributed to anyone in\\nthe United States without paying any fees or charges. If you are\\nredistributing or providing access to a work with the phrase “Project\\nGutenberg” associated with or appearing on the work, you must comply\\neither with the requirements of paragraphs 1.E.1 through 1.E.7 or\\nobtain permission for the use of the work and the Project Gutenberg™\\ntrademark as set forth in paragraphs 1.E.8 or 1.E.9.\\n\\n1.E.3. If an individual Project Gutenberg™ electronic work is posted\\nwith the permission of the copyright holder, your use and distribution\\nmust comply with both paragraphs 1.E.1 through 1.E.7 and any\\nadditional terms imposed by the copyright holder. Additional terms\\nwill be linked to the Project Gutenberg™ License for all works\\nposted with the permission of the copyright holder found at the\\nbeginning of this work.\\n\\n1.E.4. Do not unlink or detach or remove the full Project Gutenberg™\\nLicense terms from this work, or any files containing a part of this\\nwork or any other work associated with Project Gutenberg™.\\n\\n1.E.5. Do not copy, display, perform, distribute or redistribute this\\nelectronic work, or any part of this electronic work, without\\nprominently displaying the sentence set forth in paragraph 1.E.1 with\\nactive links or immediate access to the full terms of the Project\\nGutenberg™ License.\\n\\n1.E.6. You may convert to and distribute this work in any binary,\\ncompressed, marked up, nonproprietary or proprietary form, including\\nany word processing or hypertext form. However, if you provide access\\nto or distribute copies of a Project Gutenberg™ work in a format\\nother than “Plain Vanilla ASCII” or other format used in the official\\nversion posted on the official Project Gutenberg™ website\\n(www.gutenberg.org), you must, at no additional cost, fee or expense\\nto the user, provide a copy, a means of exporting a copy, or a means\\nof obtaining a copy upon request, of the work in its original “Plain\\nVanilla ASCII” or other form. Any alternate format must include the\\nfull Project Gutenberg™ License as specified in paragraph 1.E.1.\\n\\n1.E.7. Do not charge a fee for access to, viewing, displaying,\\nperforming, copying or distributing any Project Gutenberg™ works\\nunless you comply with paragraph 1.E.8 or 1.E.9.\\n\\n1.E.8. You may charge a reasonable fee for copies of or providing\\naccess to or distributing Project Gutenberg™ electronic works\\nprovided that:\\n\\n    • You pay a royalty fee of 20% of the gross profits you derive from\\n        the use of Project Gutenberg™ works calculated using the method\\n        you already use to calculate your applicable taxes. The fee is owed\\n        to the owner of the Project Gutenberg™ trademark, but he has\\n        agreed to donate royalties under this paragraph to the Project\\n        Gutenberg Literary Archive Foundation. Royalty payments must be paid\\n        within 60 days following each date on which you prepare (or are\\n        legally required to prepare) your periodic tax returns. Royalty\\n        payments should be clearly marked as such and sent to the Project\\n        Gutenberg Literary Archive Foundation at the address specified in\\n        Section 4, “Information about donations to the Project Gutenberg\\n        Literary Archive Foundation.”\\n    \\n    • You provide a full refund of any money paid by a user who notifies\\n        you in writing (or by e-mail) within 30 days of receipt that s/he\\n        does not agree to the terms of the full Project Gutenberg™\\n        License. You must require such a user to return or destroy all\\n        copies of the works possessed in a physical medium and discontinue\\n        all use of and all access to other copies of Project Gutenberg™\\n        works.\\n    \\n    • You provide, in accordance with paragraph 1.F.3, a full refund of\\n        any money paid for a work or a replacement copy, if a defect in the\\n        electronic work is discovered and reported to you within 90 days of\\n        receipt of the work.\\n    \\n    • You comply with all other terms of this agreement for free\\n        distribution of Project Gutenberg™ works.\\n    \\n\\n1.E.9. If you wish to charge a fee or distribute a Project\\nGutenberg™ electronic work or group of works on different terms than\\nare set forth in this agreement, you must obtain permission in writing\\nfrom the Project Gutenberg Literary Archive Foundation, the manager of\\nthe Project Gutenberg™ trademark. Contact the Foundation as set\\nforth in Section 3 below.\\n\\n1.F.\\n\\n1.F.1. Project Gutenberg volunteers and employees expend considerable\\neffort to identify, do copyright research on, transcribe and proofread\\nworks not protected by U.S. copyright law in creating the Project\\nGutenberg™ collection. Despite these efforts, Project Gutenberg™\\nelectronic works, and the medium on which they may be stored, may\\ncontain “Defects,” such as, but not limited to, incomplete, inaccurate\\nor corrupt data, transcription errors, a copyright or other\\nintellectual property infringement, a defective or damaged disk or\\nother medium, a computer virus, or computer codes that damage or\\ncannot be read by your equipment.\\n\\n1.F.2. LIMITED WARRANTY, DISCLAIMER OF DAMAGES - Except for the “Right\\nof Replacement or Refund” described in paragraph 1.F.3, the Project\\nGutenberg Literary Archive Foundation, the owner of the Project\\nGutenberg™ trademark, and any other party distributing a Project\\nGutenberg™ electronic work under this agreement, disclaim all\\nliability to you for damages, costs and expenses, including legal\\nfees. YOU AGREE THAT YOU HAVE NO REMEDIES FOR NEGLIGENCE, STRICT\\nLIABILITY, BREACH OF WARRANTY OR BREACH OF CONTRACT EXCEPT THOSE\\nPROVIDED IN PARAGRAPH 1.F.3. YOU AGREE THAT THE FOUNDATION, THE\\nTRADEMARK OWNER, AND ANY DISTRIBUTOR UNDER THIS AGREEMENT WILL NOT BE\\nLIABLE TO YOU FOR ACTUAL, DIRECT, INDIRECT, CONSEQUENTIAL, PUNITIVE OR\\nINCIDENTAL DAMAGES EVEN IF YOU GIVE NOTICE OF THE POSSIBILITY OF SUCH\\nDAMAGE.\\n\\n1.F.3. LIMITED RIGHT OF REPLACEMENT OR REFUND - If you discover a\\ndefect in this electronic work within 90 days of receiving it, you can\\nreceive a refund of the money (if any) you paid for it by sending a\\nwritten explanation to the person you received the work from. If you\\nreceived the work on a physical medium, you must return the medium\\nwith your written explanation. The person or entity that provided you\\nwith the defective work may elect to provide a replacement copy in\\nlieu of a refund. If you received the work electronically, the person\\nor entity providing it to you may choose to give you a second\\nopportunity to receive the work electronically in lieu of a refund. If\\nthe second copy is also defective, you may demand a refund in writing\\nwithout further opportunities to fix the problem.\\n\\n1.F.4. Except for the limited right of replacement or refund set forth\\nin paragraph 1.F.3, this work is provided to you ‘AS-IS’, WITH NO\\nOTHER WARRANTIES OF ANY KIND, EXPRESS OR IMPLIED, INCLUDING BUT NOT\\nLIMITED TO WARRANTIES OF MERCHANTABILITY OR FITNESS FOR ANY PURPOSE.\\n\\n1.F.5. Some states do not allow disclaimers of certain implied\\nwarranties or the exclusion or limitation of certain types of\\ndamages. If any disclaimer or limitation set forth in this agreement\\nviolates the law of the state applicable to this agreement, the\\nagreement shall be interpreted to make the maximum disclaimer or\\nlimitation permitted by the applicable state law. The invalidity or\\nunenforceability of any provision of this agreement shall not void the\\nremaining provisions.\\n\\n1.F.6. INDEMNITY - You agree to indemnify and hold the Foundation, the\\ntrademark owner, any agent or employee of the Foundation, anyone\\nproviding copies of Project Gutenberg™ electronic works in\\naccordance with this agreement, and any volunteers associated with the\\nproduction, promotion and distribution of Project Gutenberg™\\nelectronic works, harmless from all liability, costs and expenses,\\nincluding legal fees, that arise directly or indirectly from any of\\nthe following which you do or cause to occur: (a) distribution of this\\nor any Project Gutenberg™ work, (b) alteration, modification, or\\nadditions or deletions to any Project Gutenberg™ work, and (c) any\\nDefect you cause.\\n\\nSection 2. Information about the Mission of Project Gutenberg™\\n\\nProject Gutenberg™ is synonymous with the free distribution of\\nelectronic works in formats readable by the widest variety of\\ncomputers including obsolete, old, middle-aged and new computers. It\\nexists because of the efforts of hundreds of volunteers and donations\\nfrom people in all walks of life.\\n\\nVolunteers and financial support to provide volunteers with the\\nassistance they need are critical to reaching Project Gutenberg™’s\\ngoals and ensuring that the Project Gutenberg™ collection will\\nremain freely available for generations to come. In 2001, the Project\\nGutenberg Literary Archive Foundation was created to provide a secure\\nand permanent future for Project Gutenberg™ and future\\ngenerations. To learn more about the Project Gutenberg Literary\\nArchive Foundation and how your efforts and donations can help, see\\nSections 3 and 4 and the Foundation information page at www.gutenberg.org.\\n\\nSection 3. Information about the Project Gutenberg Literary Archive Foundation\\n\\nThe Project Gutenberg Literary Archive Foundation is a non-profit\\n501(c)(3) educational corporation organized under the laws of the\\nstate of Mississippi and granted tax exempt status by the Internal\\nRevenue Service. The Foundation’s EIN or federal tax identification\\nnumber is 64-6221541. Contributions to the Project Gutenberg Literary\\nArchive Foundation are tax deductible to the full extent permitted by\\nU.S. federal laws and your state’s laws.\\n\\nThe Foundation’s business office is located at 809 North 1500 West,\\nSalt Lake City, UT 84116, (801) 596-1887. Email contact links and up\\nto date contact information can be found at the Foundation’s website\\nand official page at www.gutenberg.org/contact\\n\\nSection 4. Information about Donations to the Project Gutenberg\\nLiterary Archive Foundation\\n\\nProject Gutenberg™ depends upon and cannot survive without widespread\\npublic support and donations to carry out its mission of\\nincreasing the number of public domain and licensed works that can be\\nfreely distributed in machine-readable form accessible by the widest\\narray of equipment including outdated equipment. Many small donations\\n($1 to $5,000) are particularly important to maintaining tax exempt\\nstatus with the IRS.\\n\\nThe Foundation is committed to complying with the laws regulating\\ncharities and charitable donations in all 50 states of the United\\nStates. Compliance requirements are not uniform and it takes a\\nconsiderable effort, much paperwork and many fees to meet and keep up\\nwith these requirements. We do not solicit donations in locations\\nwhere we have not received written confirmation of compliance. To SEND\\nDONATIONS or determine the status of compliance for any particular state\\nvisit www.gutenberg.org/donate.\\n\\nWhile we cannot and do not solicit contributions from states where we\\nhave not met the solicitation requirements, we know of no prohibition\\nagainst accepting unsolicited donations from donors in such states who\\napproach us with offers to donate.\\n\\nInternational donations are gratefully accepted, but we cannot make\\nany statements concerning tax treatment of donations received from\\noutside the United States. U.S. laws alone swamp our small staff.\\n\\nPlease check the Project Gutenberg web pages for current donation\\nmethods and addresses. Donations are accepted in a number of other\\nways including checks, online payments and credit card donations. To\\ndonate, please visit: www.gutenberg.org/donate.\\n\\nSection 5. General Information About Project Gutenberg™ electronic works\\n\\nProfessor Michael S. Hart was the originator of the Project\\nGutenberg™ concept of a library of electronic works that could be\\nfreely shared with anyone. For forty years, he produced and\\ndistributed Project Gutenberg™ eBooks with only a loose network of\\nvolunteer support.\\n\\nProject Gutenberg™ eBooks are often created from several printed\\neditions, all of which are confirmed as not protected by copyright in\\nthe U.S. unless a copyright notice is included. Thus, we do not\\nnecessarily keep eBooks in compliance with any particular paper\\nedition.\\n\\nMost people start at our website which has the main PG search\\nfacility: www.gutenberg.org.\\n\\nThis website includes information about Project Gutenberg™,\\nincluding how to make donations to the Project Gutenberg Literary\\nArchive Foundation, how to help produce our new eBooks, and how to\\nsubscribe to our email newsletter to hear about new eBooks.\\n\\n\""
      ]
     },
     "execution_count": 34,
     "metadata": {},
     "output_type": "execute_result"
    }
   ],
   "source": [
    "text"
   ]
  },
  {
   "cell_type": "code",
   "execution_count": null,
   "metadata": {},
   "outputs": [],
   "source": []
  }
 ],
 "metadata": {
  "kernelspec": {
   "display_name": "Python 3",
   "language": "python",
   "name": "python3"
  },
  "language_info": {
   "codemirror_mode": {
    "name": "ipython",
    "version": 3
   },
   "file_extension": ".py",
   "mimetype": "text/x-python",
   "name": "python",
   "nbconvert_exporter": "python",
   "pygments_lexer": "ipython3",
   "version": "3.11.4"
  }
 },
 "nbformat": 4,
 "nbformat_minor": 2
}
